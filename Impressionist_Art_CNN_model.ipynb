{
  "cells": [
    {
      "cell_type": "markdown",
      "metadata": {
        "id": "view-in-github",
        "colab_type": "text"
      },
      "source": [
        "<a href=\"https://colab.research.google.com/github/Anushkasethi/APS360/blob/main/Impressionist_Art_CNN_model.ipynb\" target=\"_parent\"><img src=\"https://colab.research.google.com/assets/colab-badge.svg\" alt=\"Open In Colab\"/></a>"
      ]
    },
    {
      "cell_type": "markdown",
      "metadata": {
        "id": "b6oVoj5SqZAo"
      },
      "source": [
        "###**Impressionist Art CNN Model**"
      ]
    },
    {
      "cell_type": "code",
      "execution_count": null,
      "metadata": {
        "id": "DiW8k8b2oouq"
      },
      "outputs": [],
      "source": [
        "from torchvision.datasets import ImageFolder\n",
        "import os\n",
        "import matplotlib.pyplot as plt\n",
        "import torchvision.transforms as tt\n",
        "from torch.utils.data.dataloader import DataLoader\n",
        "import torch\n",
        "import torch.nn as nn\n",
        "import torch.optim as optim\n",
        "import torch.nn.functional as F\n",
        "import torchvision\n",
        "from torchvision import datasets\n",
        "import torchvision.models as models\n",
        "from torchvision.utils import save_image"
      ]
    },
    {
      "cell_type": "code",
      "execution_count": null,
      "metadata": {
        "colab": {
          "base_uri": "https://localhost:8080/"
        },
        "id": "_L2sv5Z7gnid",
        "outputId": "c252b7f0-2f13-4b97-e48c-a096f1bd86f4"
      },
      "outputs": [
        {
          "output_type": "execute_result",
          "data": {
            "text/plain": [
              "<torch._C.Generator at 0x7faaa46818f0>"
            ]
          },
          "metadata": {},
          "execution_count": 2
        }
      ],
      "source": [
        "# Global Variables\n",
        "classes = ['Cezanne','Degas','Gauguin','Hassam','Matisse','Monet','Pissarro','Renoir','Sargent','VanGogh']\n",
        "\n",
        "# For reproducible randomness\n",
        "torch.manual_seed(100)"
      ]
    },
    {
      "cell_type": "markdown",
      "metadata": {
        "id": "CqCKwLK-qIc2"
      },
      "source": [
        "###Data Processing and Splitting"
      ]
    },
    {
      "cell_type": "code",
      "source": [
        "!pip install split-folders"
      ],
      "metadata": {
        "colab": {
          "base_uri": "https://localhost:8080/"
        },
        "id": "xefhvBNYn6QU",
        "outputId": "1cf4b497-fe64-4a0a-d192-2e1129a2dbcf"
      },
      "execution_count": null,
      "outputs": [
        {
          "output_type": "stream",
          "name": "stdout",
          "text": [
            "Looking in indexes: https://pypi.org/simple, https://us-python.pkg.dev/colab-wheels/public/simple/\n",
            "Collecting split-folders\n",
            "  Downloading split_folders-0.5.1-py3-none-any.whl (8.4 kB)\n",
            "Installing collected packages: split-folders\n",
            "Successfully installed split-folders-0.5.1\n"
          ]
        }
      ]
    },
    {
      "cell_type": "code",
      "source": [
        "import splitfolders"
      ],
      "metadata": {
        "id": "Qch-ptlNrNJY"
      },
      "execution_count": null,
      "outputs": []
    },
    {
      "cell_type": "code",
      "source": [
        "# Mounting to drive\n",
        "from google.colab import drive\n",
        "drive.mount('/content/gdrive')"
      ],
      "metadata": {
        "colab": {
          "base_uri": "https://localhost:8080/"
        },
        "id": "VPgNZyJfrPJ8",
        "outputId": "78ec512e-c294-436c-8f50-ae90f34c4acf"
      },
      "execution_count": null,
      "outputs": [
        {
          "output_type": "stream",
          "name": "stdout",
          "text": [
            "Drive already mounted at /content/gdrive; to attempt to forcibly remount, call drive.mount(\"/content/gdrive\", force_remount=True).\n"
          ]
        }
      ]
    },
    {
      "cell_type": "code",
      "source": [
        "data_root = \"/content/gdrive/MyDrive/all_impressionist_data\""
      ],
      "metadata": {
        "id": "BsFdn9ZWgHpZ"
      },
      "execution_count": null,
      "outputs": []
    },
    {
      "cell_type": "code",
      "source": [
        "output_folder = \"Impressionist-classifier-data-split\""
      ],
      "metadata": {
        "id": "xlHTV3wUrb_7"
      },
      "execution_count": null,
      "outputs": []
    },
    {
      "cell_type": "code",
      "source": [
        "splitfolders.ratio(data_root, output_folder, seed = 888, ratio= (0.6, 0.2, 0.2))"
      ],
      "metadata": {
        "colab": {
          "base_uri": "https://localhost:8080/"
        },
        "id": "ePO5AjJori5E",
        "outputId": "07c4514f-1072-463d-df0d-c431c2e40226"
      },
      "execution_count": null,
      "outputs": [
        {
          "output_type": "stream",
          "name": "stderr",
          "text": [
            "Copying files: 4978 files [01:24, 58.85 files/s] \n"
          ]
        }
      ]
    },
    {
      "cell_type": "code",
      "execution_count": null,
      "metadata": {
        "id": "pUFqPt1igmQq"
      },
      "outputs": [],
      "source": [
        "# These are Yina's GDrive Paths, I couldn't figure out how to get the path from a shared drive so I uploaded it to my drive manually\n",
        "\n",
        "### Replace with your own paths if you're running ###\n",
        "train_path = \"./Impressionist-classifier-data-split/train\" \n",
        "test_path = \"./Impressionist-classifier-data-split/test\" \n",
        "val_path = \"./Impressionist-classifier-data-split/val\" "
      ]
    },
    {
      "cell_type": "code",
      "execution_count": null,
      "metadata": {
        "id": "d1OA0FjoqqZj"
      },
      "outputs": [],
      "source": [
        "# We can compose different transforms and tune this, these are the one's I thought to be most relevant\n",
        "transform_1 = tt.Compose([tt.RandomResizedCrop(224, scale = (0.3, 1.0), ratio = (0.5, 1.9)),\n",
        "                          tt.ToTensor(),\n",
        "                          tt.Normalize((0.5, 0.5, 0.5), (0.5,0.5,0.5))])\n",
        "\n",
        "transform_2 = tt.Compose([tt.RandomResizedCrop(224, scale = (0.3, 1.0), ratio = (0.9, 1.1)),\n",
        "                          tt.ColorJitter(0.5, 0.5, 0.5), \n",
        "                          tt.ToTensor(),\n",
        "                          tt.Normalize((0.5, 0.5, 0.5), (0.5,0.5,0.5))])\n",
        "\n",
        "transform_3 = tt.Compose([tt.RandomResizedCrop(224, scale = (0.3, 1.0), ratio = (0.9, 1.1)),\n",
        "                          tt.RandomPerspective(0.3, p=1.0),\n",
        "                          tt.RandomRotation(35),\n",
        "                          tt.ToTensor(),\n",
        "                          tt.Normalize((0.5, 0.5, 0.5), (0.5,0.5,0.5))])\n",
        "\n",
        "transform_4 = tt.Compose([tt.RandomResizedCrop(224, scale = (0.3, 1.0), ratio = (0.9, 1.1)), \n",
        "                          tt.RandomRotation(35),\n",
        "                          tt.ToTensor(),\n",
        "                          tt.Normalize((0.5, 0.5, 0.5), (0.5,0.5,0.5))])"
      ]
    },
    {
      "cell_type": "code",
      "execution_count": null,
      "metadata": {
        "id": "-c6dn--gD4T7"
      },
      "outputs": [],
      "source": [
        "def get_augmented_data(path):\n",
        "  #dataset_1 = torchvision.datasets.ImageFolder(root = path, transform=transform_1)\n",
        "  dataset_2 = torchvision.datasets.ImageFolder(root = path, transform=transform_1)\n",
        "  dataset_3 = torchvision.datasets.ImageFolder(root = path, transform=transform_1)\n",
        "  #dataset_4 = torchvision.datasets.ImageFolder(root = path, transform=transform_1) #comment out one of these lines if u wanna decrease the size of the train and val sets\n",
        "\n",
        "  data_concat = torch.utils.data.ConcatDataset([dataset_3, dataset_2]) #, dataset_3, dataset_4]) #remember to take the variable out of here if u comment out something above\n",
        "  #print(len(data_concat))\n",
        "\n",
        "  #data_loader = torch.utils.data.DataLoader(data_concat, batch_size=batch_size, num_workers=2, shuffle=True, pin_memory=True) #I'm gonna be honest Idk what the last two parameters do feel free to change them\n",
        "  #classes = dataset_1.classes\n",
        "\n",
        "  return data_concat"
      ]
    },
    {
      "cell_type": "code",
      "execution_count": null,
      "metadata": {
        "id": "IVaPPP-aGgnP"
      },
      "outputs": [],
      "source": [
        "def get_data(path):\n",
        "  \n",
        "  dataset = torchvision.datasets.ImageFolder(root = path, transform=transform_1)\n",
        "  #data_loader = torch.utils.data.DataLoader(dataset, batch_size=batch_size, num_workers=1, shuffle=True)\n",
        "\n",
        "  return dataset"
      ]
    },
    {
      "cell_type": "code",
      "execution_count": null,
      "metadata": {
        "colab": {
          "base_uri": "https://localhost:8080/"
        },
        "id": "EsjobdxCgP8M",
        "outputId": "2c42361b-e341-434a-f402-19fd300a6e66"
      },
      "outputs": [
        {
          "output_type": "stream",
          "name": "stdout",
          "text": [
            "5960 990 1008\n"
          ]
        }
      ],
      "source": [
        "# Calling Dataset\n",
        "\n",
        "train_dataset = get_augmented_data(train_path)\n",
        "val_dataset = get_data(val_path)\n",
        "test_dataset = get_data(test_path)\n",
        "\n",
        "print(len(train_dataset), len(val_dataset), len(test_dataset))"
      ]
    },
    {
      "cell_type": "markdown",
      "metadata": {
        "id": "pAMLcNWX-VBd"
      },
      "source": [
        "###Transfer Learning"
      ]
    },
    {
      "cell_type": "code",
      "execution_count": null,
      "metadata": {
        "id": "75MesrVcWFol"
      },
      "outputs": [],
      "source": [
        "## may or may not be necessary\n",
        "class transfer(nn.Module):\n",
        "  def __init__(self):\n",
        "    super(transfer, self).__init__()\n",
        "    self.resnet50 = models.resnet50(pretrained=True)"
      ]
    },
    {
      "cell_type": "code",
      "execution_count": null,
      "metadata": {
        "colab": {
          "base_uri": "https://localhost:8080/",
          "height": 156,
          "referenced_widgets": [
            "fad8e29c50074ac78b89de552c5aa71d",
            "6b08c89abf9a4653b92259b605f99107",
            "03c395e992aa44289fbfa838d92f3232",
            "391964e9d76844b4ae9534a25f0451c5",
            "9222edf8e21140ccbc7d4120c378ba38",
            "6f5f97415b8a4659af3d1e6ab6b7b3fd",
            "89e09d459e7944bd9bc30e42456b885d",
            "1485168207d24b6db3318b416c31091c",
            "efc594d47e7244488469cfe7c3ff072b",
            "7aa4471626b849cdb1e7561b78e39ba5",
            "e139f51eacdc40409956978ee377884e"
          ]
        },
        "id": "LGeOCPZl6wjY",
        "outputId": "5bf7ce37-a956-4e06-f6bc-e167cc3b2dad"
      },
      "outputs": [
        {
          "output_type": "stream",
          "name": "stderr",
          "text": [
            "/usr/local/lib/python3.7/dist-packages/torchvision/models/_utils.py:209: UserWarning: The parameter 'pretrained' is deprecated since 0.13 and will be removed in 0.15, please use 'weights' instead.\n",
            "  f\"The parameter '{pretrained_param}' is deprecated since 0.13 and will be removed in 0.15, \"\n",
            "/usr/local/lib/python3.7/dist-packages/torchvision/models/_utils.py:223: UserWarning: Arguments other than a weight enum or `None` for 'weights' are deprecated since 0.13 and will be removed in 0.15. The current behavior is equivalent to passing `weights=ResNet34_Weights.IMAGENET1K_V1`. You can also use `weights=ResNet34_Weights.DEFAULT` to get the most up-to-date weights.\n",
            "  warnings.warn(msg)\n",
            "Downloading: \"https://download.pytorch.org/models/resnet34-b627a593.pth\" to /root/.cache/torch/hub/checkpoints/resnet34-b627a593.pth\n"
          ]
        },
        {
          "output_type": "display_data",
          "data": {
            "text/plain": [
              "  0%|          | 0.00/83.3M [00:00<?, ?B/s]"
            ],
            "application/vnd.jupyter.widget-view+json": {
              "version_major": 2,
              "version_minor": 0,
              "model_id": "fad8e29c50074ac78b89de552c5aa71d"
            }
          },
          "metadata": {}
        }
      ],
      "source": [
        "transfer_net = models.resnet34(pretrained=True)"
      ]
    },
    {
      "cell_type": "code",
      "execution_count": null,
      "metadata": {
        "colab": {
          "base_uri": "https://localhost:8080/",
          "height": 36
        },
        "id": "5UykUuV4rnCd",
        "outputId": "69b7ff95-983c-4aeb-e783-b8803553912a"
      },
      "outputs": [
        {
          "output_type": "execute_result",
          "data": {
            "text/plain": [
              "'\\nfor param in transfer_net.parameters():\\n  param.requires_grad = False\\n'"
            ],
            "application/vnd.google.colaboratory.intrinsic+json": {
              "type": "string"
            }
          },
          "metadata": {},
          "execution_count": 17
        }
      ],
      "source": [
        "for i, child in enumerate(transfer_net.children()):\n",
        "  if i < 7:\n",
        "    # for the last layer \n",
        "    for param in child.parameters():\n",
        "      param.requires_grad = False\n",
        "\n",
        "'''\n",
        "for param in transfer_net.parameters():\n",
        "  param.requires_grad = False\n",
        "'''"
      ]
    },
    {
      "cell_type": "code",
      "execution_count": null,
      "metadata": {
        "colab": {
          "base_uri": "https://localhost:8080/",
          "height": 36
        },
        "id": "FygGPCjilAjh",
        "outputId": "5c641d98-6674-4e96-ef1a-fc43355fb2bd"
      },
      "outputs": [
        {
          "output_type": "execute_result",
          "data": {
            "text/plain": [
              "'\\ntransfer_net.fc = nn.Linear(transfer_net.fc.in_features, 10)\\n'"
            ],
            "application/vnd.google.colaboratory.intrinsic+json": {
              "type": "string"
            }
          },
          "metadata": {},
          "execution_count": 18
        }
      ],
      "source": [
        "#replace the head (fc classifier)\n",
        "\n",
        "transfer_net.fc = nn.Sequential(\n",
        "                  nn.Dropout(),\n",
        "                  nn.Linear(transfer_net.fc.in_features, 200),\n",
        "                  nn.ReLU(inplace=True),\n",
        "                  nn.Dropout(),\n",
        "                  nn.Linear(200, 10),\n",
        "                  )\n",
        "'''\n",
        "transfer_net.fc = nn.Linear(transfer_net.fc.in_features, 10)\n",
        "'''"
      ]
    },
    {
      "cell_type": "code",
      "execution_count": null,
      "metadata": {
        "id": "IFz0a-FRpCQU"
      },
      "outputs": [],
      "source": [
        "#train function\n",
        "def train(model, name, train_set, val_set, lr=0.001, batch_size=64, num_epochs=10):\n",
        "  optimizer = optim.Adam(filter(lambda p: p.requires_grad, model.parameters()), lr=lr, weight_decay=0.00001)\n",
        "  #optimizer = optim.SGD(model.parameters(), lr=learning_rate, momentum=0.9)\n",
        "  criterion = nn.CrossEntropyLoss()\n",
        "  scheduler = torch.optim.lr_scheduler.StepLR(optimizer, step_size=5, gamma=0.1)\n",
        "\n",
        "  train_acc, train_loss, val_acc, val_loss = [], [], [], []\n",
        "  train_loader = torch.utils.data.DataLoader(train_dataset, batch_size=batch_size, shuffle=True)\n",
        "  val_loader = torch.utils.data.DataLoader(train_dataset, batch_size=batch_size, shuffle=True)\n",
        "\n",
        "  for epoch in range(num_epochs):\n",
        "    running_loss = 0\n",
        "    correct = 0\n",
        "    total_samples = 0\n",
        "\n",
        "    for i, samples in enumerate(train_loader, 0):\n",
        "      img, labels = samples # retrieve data from enumerate\n",
        "\n",
        "      if use_cuda and torch.cuda.is_available:\n",
        "        img = img.cuda()\n",
        "        labels = labels.cuda()\n",
        "        print(img.shape)\n",
        "      optimizer.zero_grad()\n",
        "      output = model(img)\n",
        "      loss = criterion(output, labels)\n",
        "      loss.backward()\n",
        "      optimizer.step()\n",
        "\n",
        "      # update stats\n",
        "      total_samples += len(labels)\n",
        "      running_loss += loss.item()\n",
        "\n",
        "      pred = output.max(1, keepdim=True)[1]\n",
        "      correct += pred.eq(labels.view_as(pred)).sum().item()\n",
        "    \n",
        "    # update epoch stats \n",
        "    train_acc.append(float(correct)/total_samples) \n",
        "    train_loss.append(float(running_loss)/(i+1)) # average\n",
        "    val_acc.append(evaluate(model, val_loader, criterion)[0])\n",
        "    val_loss.append(evaluate(model, val_loader, criterion)[1])\n",
        "    \n",
        "    print(\"Epoch:\", epoch+1, \"Training acc:\", train_acc[-1], \", Train loss:\", \n",
        "          train_loss[-1], \", Val acc:\", val_acc[-1], \", Val loss:\", val_loss[-1])\n",
        "    save_path = \"model_{0}_bs{1}_lr{2}_epoch{3}\".format(name, batch_size, lr, epoch)\n",
        "    torch.save(model.state_dict(), save_path)\n",
        "\n",
        "  # plotting\n",
        "  plt.title(\"Train/Val Loss Curve\")\n",
        "  n = len(train_acc)\n",
        "  plt.plot(range(1, n+1), train_loss, label=\"Train\")\n",
        "  plt.plot(range(1, n+1), val_loss, label=\"Val\")\n",
        "  plt.xlabel(\"Epoch\")\n",
        "  plt.ylabel(\"Loss\")\n",
        "  plt.show()\n",
        "\n",
        "  plt.title(\"Train/Val Accuracy Curve\")\n",
        "  plt.plot(range(1, n+1), train_acc, label=\"Train\")\n",
        "  plt.plot(range(1, n+1), val_acc, label=\"Validation\")\n",
        "  plt.xlabel(\"Epoch\")\n",
        "  plt.ylabel(\"Accuracy\")\n",
        "  plt.legend(loc='best')\n",
        "  plt.show()\n",
        "\n",
        "  print(\"Final Training Accuracy: {}\".format(train_acc[-1]))\n",
        "  print(\"Final Validation Accuracy: {}\".format(val_acc[-1]))\n",
        "    "
      ]
    },
    {
      "cell_type": "code",
      "execution_count": null,
      "metadata": {
        "id": "US1IMbKf-Xnu"
      },
      "outputs": [],
      "source": [
        "def evaluate(model, loader, criterion):\n",
        "    running_loss = 0\n",
        "    correct = 0\n",
        "    total_samples = 0\n",
        "\n",
        "    for i, samples in enumerate(loader, 0):\n",
        "      img, labels = samples # retrieve data from enumerate\n",
        "\n",
        "      if use_cuda and torch.cuda.is_available:\n",
        "        img = img.cuda()\n",
        "        labels = labels.cuda()\n",
        "      \n",
        "      output = model(img)\n",
        "      loss = criterion(output, labels)\n",
        "\n",
        "      # update stats\n",
        "      total_samples += len(labels)\n",
        "      running_loss += loss.item()\n",
        "      pred = output.max(1, keepdim=True)[1]\n",
        "      correct += pred.eq(labels.view_as(pred)).sum().item()\n",
        "    \n",
        "    # update epoch stats \n",
        "    accuracy = float(correct)/total_samples\n",
        "    loss = float(running_loss)/(i+1)\n",
        "\n",
        "    return accuracy, loss"
      ]
    },
    {
      "cell_type": "code",
      "execution_count": null,
      "metadata": {
        "id": "gBhbP1ttPCME"
      },
      "outputs": [],
      "source": [
        "#second try"
      ]
    },
    {
      "cell_type": "code",
      "source": [
        "use_cuda = True\n",
        "model_2 = transfer_net\n",
        "\n",
        "if use_cuda and torch.cuda.is_available():\n",
        "  model_2.cuda()\n",
        "  print('CUDA is available!  Training on GPU ...')\n",
        "else:\n",
        "  print('CUDA is not available.  Training on CPU ...')\n",
        "\n",
        "train(model_2, \"debugging1\", train_dataset, val_dataset, lr = 0.001, batch_size = 64, num_epochs=5)"
      ],
      "metadata": {
        "colab": {
          "base_uri": "https://localhost:8080/",
          "height": 1000
        },
        "id": "t4SPjxJKJiSe",
        "outputId": "fa41f4da-227e-4a58-e6eb-4e1f8e79af8c"
      },
      "execution_count": null,
      "outputs": [
        {
          "output_type": "stream",
          "name": "stdout",
          "text": [
            "CUDA is available!  Training on GPU ...\n",
            "torch.Size([64, 3, 224, 224])\n",
            "torch.Size([64, 3, 224, 224])\n",
            "torch.Size([64, 3, 224, 224])\n",
            "torch.Size([64, 3, 224, 224])\n",
            "torch.Size([64, 3, 224, 224])\n",
            "torch.Size([64, 3, 224, 224])\n",
            "torch.Size([64, 3, 224, 224])\n",
            "torch.Size([64, 3, 224, 224])\n",
            "torch.Size([64, 3, 224, 224])\n",
            "torch.Size([64, 3, 224, 224])\n",
            "torch.Size([64, 3, 224, 224])\n",
            "torch.Size([64, 3, 224, 224])\n",
            "torch.Size([64, 3, 224, 224])\n",
            "torch.Size([64, 3, 224, 224])\n",
            "torch.Size([64, 3, 224, 224])\n",
            "torch.Size([64, 3, 224, 224])\n",
            "torch.Size([64, 3, 224, 224])\n",
            "torch.Size([64, 3, 224, 224])\n",
            "torch.Size([64, 3, 224, 224])\n",
            "torch.Size([64, 3, 224, 224])\n",
            "torch.Size([64, 3, 224, 224])\n",
            "torch.Size([64, 3, 224, 224])\n",
            "torch.Size([64, 3, 224, 224])\n",
            "torch.Size([64, 3, 224, 224])\n",
            "torch.Size([64, 3, 224, 224])\n",
            "torch.Size([64, 3, 224, 224])\n",
            "torch.Size([64, 3, 224, 224])\n",
            "torch.Size([64, 3, 224, 224])\n",
            "torch.Size([64, 3, 224, 224])\n",
            "torch.Size([64, 3, 224, 224])\n",
            "torch.Size([64, 3, 224, 224])\n",
            "torch.Size([64, 3, 224, 224])\n",
            "torch.Size([64, 3, 224, 224])\n",
            "torch.Size([64, 3, 224, 224])\n",
            "torch.Size([64, 3, 224, 224])\n",
            "torch.Size([64, 3, 224, 224])\n",
            "torch.Size([64, 3, 224, 224])\n",
            "torch.Size([64, 3, 224, 224])\n",
            "torch.Size([64, 3, 224, 224])\n",
            "torch.Size([64, 3, 224, 224])\n",
            "torch.Size([64, 3, 224, 224])\n",
            "torch.Size([64, 3, 224, 224])\n",
            "torch.Size([64, 3, 224, 224])\n",
            "torch.Size([64, 3, 224, 224])\n",
            "torch.Size([64, 3, 224, 224])\n",
            "torch.Size([64, 3, 224, 224])\n",
            "torch.Size([64, 3, 224, 224])\n",
            "torch.Size([64, 3, 224, 224])\n",
            "torch.Size([64, 3, 224, 224])\n",
            "torch.Size([64, 3, 224, 224])\n",
            "torch.Size([64, 3, 224, 224])\n",
            "torch.Size([64, 3, 224, 224])\n",
            "torch.Size([64, 3, 224, 224])\n",
            "torch.Size([64, 3, 224, 224])\n",
            "torch.Size([64, 3, 224, 224])\n",
            "torch.Size([64, 3, 224, 224])\n",
            "torch.Size([64, 3, 224, 224])\n",
            "torch.Size([64, 3, 224, 224])\n",
            "torch.Size([64, 3, 224, 224])\n",
            "torch.Size([64, 3, 224, 224])\n",
            "torch.Size([64, 3, 224, 224])\n",
            "torch.Size([64, 3, 224, 224])\n",
            "torch.Size([64, 3, 224, 224])\n",
            "torch.Size([64, 3, 224, 224])\n",
            "torch.Size([64, 3, 224, 224])\n",
            "torch.Size([64, 3, 224, 224])\n",
            "torch.Size([64, 3, 224, 224])\n",
            "torch.Size([64, 3, 224, 224])\n",
            "torch.Size([64, 3, 224, 224])\n",
            "torch.Size([64, 3, 224, 224])\n",
            "torch.Size([64, 3, 224, 224])\n",
            "torch.Size([64, 3, 224, 224])\n",
            "torch.Size([64, 3, 224, 224])\n",
            "torch.Size([64, 3, 224, 224])\n",
            "torch.Size([64, 3, 224, 224])\n",
            "torch.Size([64, 3, 224, 224])\n",
            "torch.Size([64, 3, 224, 224])\n",
            "torch.Size([64, 3, 224, 224])\n",
            "torch.Size([64, 3, 224, 224])\n",
            "torch.Size([64, 3, 224, 224])\n",
            "torch.Size([64, 3, 224, 224])\n",
            "torch.Size([64, 3, 224, 224])\n",
            "torch.Size([64, 3, 224, 224])\n",
            "torch.Size([64, 3, 224, 224])\n",
            "torch.Size([64, 3, 224, 224])\n",
            "torch.Size([64, 3, 224, 224])\n",
            "torch.Size([64, 3, 224, 224])\n",
            "torch.Size([64, 3, 224, 224])\n",
            "torch.Size([64, 3, 224, 224])\n",
            "torch.Size([64, 3, 224, 224])\n",
            "torch.Size([64, 3, 224, 224])\n",
            "torch.Size([64, 3, 224, 224])\n",
            "torch.Size([64, 3, 224, 224])\n",
            "torch.Size([8, 3, 224, 224])\n",
            "Epoch: 1 Training acc: 0.6179530201342281 , Train loss: 1.1696275466300072 , Val acc: 0.6708053691275168 , Val loss: 1.0044399354052036\n",
            "torch.Size([64, 3, 224, 224])\n",
            "torch.Size([64, 3, 224, 224])\n",
            "torch.Size([64, 3, 224, 224])\n",
            "torch.Size([64, 3, 224, 224])\n",
            "torch.Size([64, 3, 224, 224])\n",
            "torch.Size([64, 3, 224, 224])\n",
            "torch.Size([64, 3, 224, 224])\n",
            "torch.Size([64, 3, 224, 224])\n",
            "torch.Size([64, 3, 224, 224])\n",
            "torch.Size([64, 3, 224, 224])\n",
            "torch.Size([64, 3, 224, 224])\n",
            "torch.Size([64, 3, 224, 224])\n",
            "torch.Size([64, 3, 224, 224])\n",
            "torch.Size([64, 3, 224, 224])\n",
            "torch.Size([64, 3, 224, 224])\n",
            "torch.Size([64, 3, 224, 224])\n",
            "torch.Size([64, 3, 224, 224])\n",
            "torch.Size([64, 3, 224, 224])\n",
            "torch.Size([64, 3, 224, 224])\n",
            "torch.Size([64, 3, 224, 224])\n",
            "torch.Size([64, 3, 224, 224])\n",
            "torch.Size([64, 3, 224, 224])\n",
            "torch.Size([64, 3, 224, 224])\n",
            "torch.Size([64, 3, 224, 224])\n",
            "torch.Size([64, 3, 224, 224])\n",
            "torch.Size([64, 3, 224, 224])\n",
            "torch.Size([64, 3, 224, 224])\n",
            "torch.Size([64, 3, 224, 224])\n",
            "torch.Size([64, 3, 224, 224])\n",
            "torch.Size([64, 3, 224, 224])\n",
            "torch.Size([64, 3, 224, 224])\n",
            "torch.Size([64, 3, 224, 224])\n",
            "torch.Size([64, 3, 224, 224])\n",
            "torch.Size([64, 3, 224, 224])\n",
            "torch.Size([64, 3, 224, 224])\n",
            "torch.Size([64, 3, 224, 224])\n",
            "torch.Size([64, 3, 224, 224])\n",
            "torch.Size([64, 3, 224, 224])\n",
            "torch.Size([64, 3, 224, 224])\n",
            "torch.Size([64, 3, 224, 224])\n",
            "torch.Size([64, 3, 224, 224])\n",
            "torch.Size([64, 3, 224, 224])\n",
            "torch.Size([64, 3, 224, 224])\n",
            "torch.Size([64, 3, 224, 224])\n",
            "torch.Size([64, 3, 224, 224])\n",
            "torch.Size([64, 3, 224, 224])\n",
            "torch.Size([64, 3, 224, 224])\n",
            "torch.Size([64, 3, 224, 224])\n",
            "torch.Size([64, 3, 224, 224])\n",
            "torch.Size([64, 3, 224, 224])\n",
            "torch.Size([64, 3, 224, 224])\n",
            "torch.Size([64, 3, 224, 224])\n",
            "torch.Size([64, 3, 224, 224])\n",
            "torch.Size([64, 3, 224, 224])\n",
            "torch.Size([64, 3, 224, 224])\n",
            "torch.Size([64, 3, 224, 224])\n",
            "torch.Size([64, 3, 224, 224])\n",
            "torch.Size([64, 3, 224, 224])\n",
            "torch.Size([64, 3, 224, 224])\n",
            "torch.Size([64, 3, 224, 224])\n",
            "torch.Size([64, 3, 224, 224])\n",
            "torch.Size([64, 3, 224, 224])\n",
            "torch.Size([64, 3, 224, 224])\n",
            "torch.Size([64, 3, 224, 224])\n",
            "torch.Size([64, 3, 224, 224])\n",
            "torch.Size([64, 3, 224, 224])\n",
            "torch.Size([64, 3, 224, 224])\n",
            "torch.Size([64, 3, 224, 224])\n",
            "torch.Size([64, 3, 224, 224])\n",
            "torch.Size([64, 3, 224, 224])\n",
            "torch.Size([64, 3, 224, 224])\n",
            "torch.Size([64, 3, 224, 224])\n",
            "torch.Size([64, 3, 224, 224])\n",
            "torch.Size([64, 3, 224, 224])\n",
            "torch.Size([64, 3, 224, 224])\n",
            "torch.Size([64, 3, 224, 224])\n",
            "torch.Size([64, 3, 224, 224])\n",
            "torch.Size([64, 3, 224, 224])\n",
            "torch.Size([64, 3, 224, 224])\n",
            "torch.Size([64, 3, 224, 224])\n",
            "torch.Size([64, 3, 224, 224])\n",
            "torch.Size([64, 3, 224, 224])\n",
            "torch.Size([64, 3, 224, 224])\n",
            "torch.Size([64, 3, 224, 224])\n",
            "torch.Size([64, 3, 224, 224])\n",
            "torch.Size([64, 3, 224, 224])\n",
            "torch.Size([64, 3, 224, 224])\n",
            "torch.Size([64, 3, 224, 224])\n",
            "torch.Size([64, 3, 224, 224])\n",
            "torch.Size([64, 3, 224, 224])\n",
            "torch.Size([64, 3, 224, 224])\n",
            "torch.Size([64, 3, 224, 224])\n",
            "torch.Size([64, 3, 224, 224])\n",
            "torch.Size([8, 3, 224, 224])\n",
            "Epoch: 2 Training acc: 0.7043624161073826 , Train loss: 0.9593914639442525 , Val acc: 0.7468120805369127 , Val loss: 0.8284403871982655\n",
            "torch.Size([64, 3, 224, 224])\n",
            "torch.Size([64, 3, 224, 224])\n",
            "torch.Size([64, 3, 224, 224])\n",
            "torch.Size([64, 3, 224, 224])\n",
            "torch.Size([64, 3, 224, 224])\n",
            "torch.Size([64, 3, 224, 224])\n",
            "torch.Size([64, 3, 224, 224])\n",
            "torch.Size([64, 3, 224, 224])\n",
            "torch.Size([64, 3, 224, 224])\n",
            "torch.Size([64, 3, 224, 224])\n",
            "torch.Size([64, 3, 224, 224])\n",
            "torch.Size([64, 3, 224, 224])\n",
            "torch.Size([64, 3, 224, 224])\n",
            "torch.Size([64, 3, 224, 224])\n",
            "torch.Size([64, 3, 224, 224])\n",
            "torch.Size([64, 3, 224, 224])\n",
            "torch.Size([64, 3, 224, 224])\n",
            "torch.Size([64, 3, 224, 224])\n",
            "torch.Size([64, 3, 224, 224])\n",
            "torch.Size([64, 3, 224, 224])\n",
            "torch.Size([64, 3, 224, 224])\n",
            "torch.Size([64, 3, 224, 224])\n",
            "torch.Size([64, 3, 224, 224])\n",
            "torch.Size([64, 3, 224, 224])\n",
            "torch.Size([64, 3, 224, 224])\n",
            "torch.Size([64, 3, 224, 224])\n",
            "torch.Size([64, 3, 224, 224])\n",
            "torch.Size([64, 3, 224, 224])\n",
            "torch.Size([64, 3, 224, 224])\n",
            "torch.Size([64, 3, 224, 224])\n",
            "torch.Size([64, 3, 224, 224])\n",
            "torch.Size([64, 3, 224, 224])\n",
            "torch.Size([64, 3, 224, 224])\n",
            "torch.Size([64, 3, 224, 224])\n",
            "torch.Size([64, 3, 224, 224])\n",
            "torch.Size([64, 3, 224, 224])\n",
            "torch.Size([64, 3, 224, 224])\n",
            "torch.Size([64, 3, 224, 224])\n",
            "torch.Size([64, 3, 224, 224])\n",
            "torch.Size([64, 3, 224, 224])\n",
            "torch.Size([64, 3, 224, 224])\n",
            "torch.Size([64, 3, 224, 224])\n",
            "torch.Size([64, 3, 224, 224])\n",
            "torch.Size([64, 3, 224, 224])\n",
            "torch.Size([64, 3, 224, 224])\n",
            "torch.Size([64, 3, 224, 224])\n",
            "torch.Size([64, 3, 224, 224])\n",
            "torch.Size([64, 3, 224, 224])\n",
            "torch.Size([64, 3, 224, 224])\n",
            "torch.Size([64, 3, 224, 224])\n",
            "torch.Size([64, 3, 224, 224])\n",
            "torch.Size([64, 3, 224, 224])\n",
            "torch.Size([64, 3, 224, 224])\n",
            "torch.Size([64, 3, 224, 224])\n",
            "torch.Size([64, 3, 224, 224])\n",
            "torch.Size([64, 3, 224, 224])\n",
            "torch.Size([64, 3, 224, 224])\n",
            "torch.Size([64, 3, 224, 224])\n",
            "torch.Size([64, 3, 224, 224])\n",
            "torch.Size([64, 3, 224, 224])\n",
            "torch.Size([64, 3, 224, 224])\n",
            "torch.Size([64, 3, 224, 224])\n",
            "torch.Size([64, 3, 224, 224])\n",
            "torch.Size([64, 3, 224, 224])\n",
            "torch.Size([64, 3, 224, 224])\n",
            "torch.Size([64, 3, 224, 224])\n",
            "torch.Size([64, 3, 224, 224])\n",
            "torch.Size([64, 3, 224, 224])\n",
            "torch.Size([64, 3, 224, 224])\n",
            "torch.Size([64, 3, 224, 224])\n",
            "torch.Size([64, 3, 224, 224])\n",
            "torch.Size([64, 3, 224, 224])\n",
            "torch.Size([64, 3, 224, 224])\n",
            "torch.Size([64, 3, 224, 224])\n",
            "torch.Size([64, 3, 224, 224])\n",
            "torch.Size([64, 3, 224, 224])\n",
            "torch.Size([64, 3, 224, 224])\n",
            "torch.Size([64, 3, 224, 224])\n",
            "torch.Size([64, 3, 224, 224])\n",
            "torch.Size([64, 3, 224, 224])\n",
            "torch.Size([64, 3, 224, 224])\n",
            "torch.Size([64, 3, 224, 224])\n",
            "torch.Size([64, 3, 224, 224])\n",
            "torch.Size([64, 3, 224, 224])\n",
            "torch.Size([64, 3, 224, 224])\n",
            "torch.Size([64, 3, 224, 224])\n",
            "torch.Size([64, 3, 224, 224])\n",
            "torch.Size([64, 3, 224, 224])\n",
            "torch.Size([64, 3, 224, 224])\n",
            "torch.Size([64, 3, 224, 224])\n",
            "torch.Size([64, 3, 224, 224])\n",
            "torch.Size([64, 3, 224, 224])\n",
            "torch.Size([64, 3, 224, 224])\n",
            "torch.Size([8, 3, 224, 224])\n",
            "Epoch: 3 Training acc: 0.7570469798657719 , Train loss: 0.8005510010617845 , Val acc: 0.789261744966443 , Val loss: 0.7051424184378158\n",
            "torch.Size([64, 3, 224, 224])\n",
            "torch.Size([64, 3, 224, 224])\n",
            "torch.Size([64, 3, 224, 224])\n",
            "torch.Size([64, 3, 224, 224])\n",
            "torch.Size([64, 3, 224, 224])\n",
            "torch.Size([64, 3, 224, 224])\n",
            "torch.Size([64, 3, 224, 224])\n",
            "torch.Size([64, 3, 224, 224])\n",
            "torch.Size([64, 3, 224, 224])\n",
            "torch.Size([64, 3, 224, 224])\n",
            "torch.Size([64, 3, 224, 224])\n",
            "torch.Size([64, 3, 224, 224])\n",
            "torch.Size([64, 3, 224, 224])\n",
            "torch.Size([64, 3, 224, 224])\n",
            "torch.Size([64, 3, 224, 224])\n",
            "torch.Size([64, 3, 224, 224])\n",
            "torch.Size([64, 3, 224, 224])\n",
            "torch.Size([64, 3, 224, 224])\n",
            "torch.Size([64, 3, 224, 224])\n",
            "torch.Size([64, 3, 224, 224])\n",
            "torch.Size([64, 3, 224, 224])\n",
            "torch.Size([64, 3, 224, 224])\n",
            "torch.Size([64, 3, 224, 224])\n",
            "torch.Size([64, 3, 224, 224])\n",
            "torch.Size([64, 3, 224, 224])\n",
            "torch.Size([64, 3, 224, 224])\n",
            "torch.Size([64, 3, 224, 224])\n",
            "torch.Size([64, 3, 224, 224])\n",
            "torch.Size([64, 3, 224, 224])\n",
            "torch.Size([64, 3, 224, 224])\n",
            "torch.Size([64, 3, 224, 224])\n",
            "torch.Size([64, 3, 224, 224])\n",
            "torch.Size([64, 3, 224, 224])\n",
            "torch.Size([64, 3, 224, 224])\n",
            "torch.Size([64, 3, 224, 224])\n",
            "torch.Size([64, 3, 224, 224])\n",
            "torch.Size([64, 3, 224, 224])\n",
            "torch.Size([64, 3, 224, 224])\n",
            "torch.Size([64, 3, 224, 224])\n",
            "torch.Size([64, 3, 224, 224])\n",
            "torch.Size([64, 3, 224, 224])\n",
            "torch.Size([64, 3, 224, 224])\n",
            "torch.Size([64, 3, 224, 224])\n",
            "torch.Size([64, 3, 224, 224])\n",
            "torch.Size([64, 3, 224, 224])\n",
            "torch.Size([64, 3, 224, 224])\n",
            "torch.Size([64, 3, 224, 224])\n",
            "torch.Size([64, 3, 224, 224])\n",
            "torch.Size([64, 3, 224, 224])\n",
            "torch.Size([64, 3, 224, 224])\n",
            "torch.Size([64, 3, 224, 224])\n",
            "torch.Size([64, 3, 224, 224])\n",
            "torch.Size([64, 3, 224, 224])\n",
            "torch.Size([64, 3, 224, 224])\n",
            "torch.Size([64, 3, 224, 224])\n",
            "torch.Size([64, 3, 224, 224])\n",
            "torch.Size([64, 3, 224, 224])\n",
            "torch.Size([64, 3, 224, 224])\n",
            "torch.Size([64, 3, 224, 224])\n",
            "torch.Size([64, 3, 224, 224])\n",
            "torch.Size([64, 3, 224, 224])\n",
            "torch.Size([64, 3, 224, 224])\n",
            "torch.Size([64, 3, 224, 224])\n",
            "torch.Size([64, 3, 224, 224])\n",
            "torch.Size([64, 3, 224, 224])\n",
            "torch.Size([64, 3, 224, 224])\n",
            "torch.Size([64, 3, 224, 224])\n",
            "torch.Size([64, 3, 224, 224])\n",
            "torch.Size([64, 3, 224, 224])\n",
            "torch.Size([64, 3, 224, 224])\n",
            "torch.Size([64, 3, 224, 224])\n",
            "torch.Size([64, 3, 224, 224])\n",
            "torch.Size([64, 3, 224, 224])\n",
            "torch.Size([64, 3, 224, 224])\n",
            "torch.Size([64, 3, 224, 224])\n",
            "torch.Size([64, 3, 224, 224])\n",
            "torch.Size([64, 3, 224, 224])\n",
            "torch.Size([64, 3, 224, 224])\n",
            "torch.Size([64, 3, 224, 224])\n",
            "torch.Size([64, 3, 224, 224])\n",
            "torch.Size([64, 3, 224, 224])\n",
            "torch.Size([64, 3, 224, 224])\n",
            "torch.Size([64, 3, 224, 224])\n",
            "torch.Size([64, 3, 224, 224])\n",
            "torch.Size([64, 3, 224, 224])\n",
            "torch.Size([64, 3, 224, 224])\n",
            "torch.Size([64, 3, 224, 224])\n",
            "torch.Size([64, 3, 224, 224])\n",
            "torch.Size([64, 3, 224, 224])\n",
            "torch.Size([64, 3, 224, 224])\n",
            "torch.Size([64, 3, 224, 224])\n",
            "torch.Size([64, 3, 224, 224])\n",
            "torch.Size([64, 3, 224, 224])\n",
            "torch.Size([8, 3, 224, 224])\n",
            "Epoch: 4 Training acc: 0.7870805369127517 , Train loss: 0.7132643435863738 , Val acc: 0.8055369127516778 , Val loss: 0.6197482908659793\n",
            "torch.Size([64, 3, 224, 224])\n",
            "torch.Size([64, 3, 224, 224])\n",
            "torch.Size([64, 3, 224, 224])\n",
            "torch.Size([64, 3, 224, 224])\n",
            "torch.Size([64, 3, 224, 224])\n",
            "torch.Size([64, 3, 224, 224])\n",
            "torch.Size([64, 3, 224, 224])\n",
            "torch.Size([64, 3, 224, 224])\n",
            "torch.Size([64, 3, 224, 224])\n",
            "torch.Size([64, 3, 224, 224])\n",
            "torch.Size([64, 3, 224, 224])\n",
            "torch.Size([64, 3, 224, 224])\n",
            "torch.Size([64, 3, 224, 224])\n",
            "torch.Size([64, 3, 224, 224])\n",
            "torch.Size([64, 3, 224, 224])\n",
            "torch.Size([64, 3, 224, 224])\n",
            "torch.Size([64, 3, 224, 224])\n",
            "torch.Size([64, 3, 224, 224])\n",
            "torch.Size([64, 3, 224, 224])\n",
            "torch.Size([64, 3, 224, 224])\n",
            "torch.Size([64, 3, 224, 224])\n",
            "torch.Size([64, 3, 224, 224])\n",
            "torch.Size([64, 3, 224, 224])\n",
            "torch.Size([64, 3, 224, 224])\n",
            "torch.Size([64, 3, 224, 224])\n",
            "torch.Size([64, 3, 224, 224])\n",
            "torch.Size([64, 3, 224, 224])\n",
            "torch.Size([64, 3, 224, 224])\n",
            "torch.Size([64, 3, 224, 224])\n",
            "torch.Size([64, 3, 224, 224])\n",
            "torch.Size([64, 3, 224, 224])\n",
            "torch.Size([64, 3, 224, 224])\n",
            "torch.Size([64, 3, 224, 224])\n",
            "torch.Size([64, 3, 224, 224])\n",
            "torch.Size([64, 3, 224, 224])\n",
            "torch.Size([64, 3, 224, 224])\n",
            "torch.Size([64, 3, 224, 224])\n",
            "torch.Size([64, 3, 224, 224])\n",
            "torch.Size([64, 3, 224, 224])\n",
            "torch.Size([64, 3, 224, 224])\n",
            "torch.Size([64, 3, 224, 224])\n",
            "torch.Size([64, 3, 224, 224])\n",
            "torch.Size([64, 3, 224, 224])\n",
            "torch.Size([64, 3, 224, 224])\n",
            "torch.Size([64, 3, 224, 224])\n",
            "torch.Size([64, 3, 224, 224])\n",
            "torch.Size([64, 3, 224, 224])\n",
            "torch.Size([64, 3, 224, 224])\n",
            "torch.Size([64, 3, 224, 224])\n",
            "torch.Size([64, 3, 224, 224])\n",
            "torch.Size([64, 3, 224, 224])\n",
            "torch.Size([64, 3, 224, 224])\n",
            "torch.Size([64, 3, 224, 224])\n",
            "torch.Size([64, 3, 224, 224])\n",
            "torch.Size([64, 3, 224, 224])\n",
            "torch.Size([64, 3, 224, 224])\n",
            "torch.Size([64, 3, 224, 224])\n",
            "torch.Size([64, 3, 224, 224])\n",
            "torch.Size([64, 3, 224, 224])\n",
            "torch.Size([64, 3, 224, 224])\n",
            "torch.Size([64, 3, 224, 224])\n",
            "torch.Size([64, 3, 224, 224])\n",
            "torch.Size([64, 3, 224, 224])\n",
            "torch.Size([64, 3, 224, 224])\n",
            "torch.Size([64, 3, 224, 224])\n",
            "torch.Size([64, 3, 224, 224])\n",
            "torch.Size([64, 3, 224, 224])\n",
            "torch.Size([64, 3, 224, 224])\n",
            "torch.Size([64, 3, 224, 224])\n",
            "torch.Size([64, 3, 224, 224])\n",
            "torch.Size([64, 3, 224, 224])\n",
            "torch.Size([64, 3, 224, 224])\n",
            "torch.Size([64, 3, 224, 224])\n",
            "torch.Size([64, 3, 224, 224])\n",
            "torch.Size([64, 3, 224, 224])\n",
            "torch.Size([64, 3, 224, 224])\n",
            "torch.Size([64, 3, 224, 224])\n",
            "torch.Size([64, 3, 224, 224])\n",
            "torch.Size([64, 3, 224, 224])\n",
            "torch.Size([64, 3, 224, 224])\n",
            "torch.Size([64, 3, 224, 224])\n",
            "torch.Size([64, 3, 224, 224])\n",
            "torch.Size([64, 3, 224, 224])\n",
            "torch.Size([64, 3, 224, 224])\n",
            "torch.Size([64, 3, 224, 224])\n",
            "torch.Size([64, 3, 224, 224])\n",
            "torch.Size([64, 3, 224, 224])\n",
            "torch.Size([64, 3, 224, 224])\n",
            "torch.Size([64, 3, 224, 224])\n",
            "torch.Size([64, 3, 224, 224])\n",
            "torch.Size([64, 3, 224, 224])\n",
            "torch.Size([64, 3, 224, 224])\n",
            "torch.Size([64, 3, 224, 224])\n",
            "torch.Size([8, 3, 224, 224])\n",
            "Epoch: 5 Training acc: 0.8246644295302014 , Train loss: 0.5826998124731347 , Val acc: 0.8486577181208054 , Val loss: 0.5069772296763481\n"
          ]
        },
        {
          "output_type": "display_data",
          "data": {
            "text/plain": [
              "<Figure size 432x288 with 1 Axes>"
            ],
            "image/png": "[encoded data removed]"
          },
          "metadata": {
            "needs_background": "light"
          }
        },
        {
          "output_type": "display_data",
          "data": {
            "text/plain": [
              "<Figure size 432x288 with 1 Axes>"
            ],
            "image/png": "[encoded data removed]"
          },
          "metadata": {
            "needs_background": "light"
          }
        },
        {
          "output_type": "stream",
          "name": "stdout",
          "text": [
            "Final Training Accuracy: 0.8246644295302014\n",
            "Final Validation Accuracy: 0.8486577181208054\n"
          ]
        }
      ]
    },
    {
      "cell_type": "code",
      "source": [
        "use_cuda = True\n",
        "model_4 = transfer_net\n",
        "\n",
        "if use_cuda and torch.cuda.is_available():\n",
        "  model_4.cuda()\n",
        "  print('CUDA is available!  Training on GPU ...')\n",
        "else:\n",
        "  print('CUDA is not available.  Training on CPU ...')\n",
        "\n",
        "train(model_4, \"debugging1\", train_dataset, val_dataset, lr = 0.0005, batch_size = 256, num_epochs=5)"
      ],
      "metadata": {
        "colab": {
          "base_uri": "https://localhost:8080/",
          "height": 1000
        },
        "id": "-EUdnKWgb0O6",
        "outputId": "c896ae5d-e448-4d41-d843-dcd0b5999362"
      },
      "execution_count": null,
      "outputs": [
        {
          "output_type": "stream",
          "name": "stdout",
          "text": [
            "CUDA is available!  Training on GPU ...\n",
            "torch.Size([256, 3, 224, 224])\n",
            "torch.Size([256, 3, 224, 224])\n",
            "torch.Size([256, 3, 224, 224])\n",
            "torch.Size([256, 3, 224, 224])\n",
            "torch.Size([256, 3, 224, 224])\n",
            "torch.Size([256, 3, 224, 224])\n",
            "torch.Size([256, 3, 224, 224])\n",
            "torch.Size([256, 3, 224, 224])\n",
            "torch.Size([256, 3, 224, 224])\n",
            "torch.Size([256, 3, 224, 224])\n",
            "torch.Size([256, 3, 224, 224])\n",
            "torch.Size([256, 3, 224, 224])\n",
            "torch.Size([256, 3, 224, 224])\n",
            "torch.Size([256, 3, 224, 224])\n",
            "torch.Size([256, 3, 224, 224])\n",
            "torch.Size([256, 3, 224, 224])\n",
            "torch.Size([256, 3, 224, 224])\n",
            "torch.Size([256, 3, 224, 224])\n",
            "torch.Size([256, 3, 224, 224])\n",
            "torch.Size([256, 3, 224, 224])\n",
            "torch.Size([256, 3, 224, 224])\n",
            "torch.Size([256, 3, 224, 224])\n",
            "torch.Size([256, 3, 224, 224])\n",
            "torch.Size([72, 3, 224, 224])\n",
            "Epoch: 1 Training acc: 0.8780201342281879 , Train loss: 0.4032685508330663 , Val acc: 0.8984899328859061 , Val loss: 0.36484467176099616\n",
            "torch.Size([256, 3, 224, 224])\n",
            "torch.Size([256, 3, 224, 224])\n",
            "torch.Size([256, 3, 224, 224])\n",
            "torch.Size([256, 3, 224, 224])\n",
            "torch.Size([256, 3, 224, 224])\n",
            "torch.Size([256, 3, 224, 224])\n",
            "torch.Size([256, 3, 224, 224])\n",
            "torch.Size([256, 3, 224, 224])\n",
            "torch.Size([256, 3, 224, 224])\n",
            "torch.Size([256, 3, 224, 224])\n",
            "torch.Size([256, 3, 224, 224])\n",
            "torch.Size([256, 3, 224, 224])\n",
            "torch.Size([256, 3, 224, 224])\n",
            "torch.Size([256, 3, 224, 224])\n",
            "torch.Size([256, 3, 224, 224])\n",
            "torch.Size([256, 3, 224, 224])\n",
            "torch.Size([256, 3, 224, 224])\n",
            "torch.Size([256, 3, 224, 224])\n",
            "torch.Size([256, 3, 224, 224])\n",
            "torch.Size([256, 3, 224, 224])\n",
            "torch.Size([256, 3, 224, 224])\n",
            "torch.Size([256, 3, 224, 224])\n",
            "torch.Size([256, 3, 224, 224])\n",
            "torch.Size([72, 3, 224, 224])\n",
            "Epoch: 2 Training acc: 0.8947986577181208 , Train loss: 0.3562942370772362 , Val acc: 0.9050335570469799 , Val loss: 0.3129309769719839\n",
            "torch.Size([256, 3, 224, 224])\n",
            "torch.Size([256, 3, 224, 224])\n",
            "torch.Size([256, 3, 224, 224])\n",
            "torch.Size([256, 3, 224, 224])\n",
            "torch.Size([256, 3, 224, 224])\n",
            "torch.Size([256, 3, 224, 224])\n",
            "torch.Size([256, 3, 224, 224])\n",
            "torch.Size([256, 3, 224, 224])\n",
            "torch.Size([256, 3, 224, 224])\n",
            "torch.Size([256, 3, 224, 224])\n",
            "torch.Size([256, 3, 224, 224])\n",
            "torch.Size([256, 3, 224, 224])\n",
            "torch.Size([256, 3, 224, 224])\n",
            "torch.Size([256, 3, 224, 224])\n",
            "torch.Size([256, 3, 224, 224])\n",
            "torch.Size([256, 3, 224, 224])\n",
            "torch.Size([256, 3, 224, 224])\n",
            "torch.Size([256, 3, 224, 224])\n",
            "torch.Size([256, 3, 224, 224])\n",
            "torch.Size([256, 3, 224, 224])\n",
            "torch.Size([256, 3, 224, 224])\n",
            "torch.Size([256, 3, 224, 224])\n",
            "torch.Size([256, 3, 224, 224])\n",
            "torch.Size([72, 3, 224, 224])\n",
            "Epoch: 3 Training acc: 0.9090604026845638 , Train loss: 0.31126898154616356 , Val acc: 0.9083892617449665 , Val loss: 0.27633982089658576\n",
            "torch.Size([256, 3, 224, 224])\n",
            "torch.Size([256, 3, 224, 224])\n",
            "torch.Size([256, 3, 224, 224])\n",
            "torch.Size([256, 3, 224, 224])\n",
            "torch.Size([256, 3, 224, 224])\n",
            "torch.Size([256, 3, 224, 224])\n",
            "torch.Size([256, 3, 224, 224])\n",
            "torch.Size([256, 3, 224, 224])\n",
            "torch.Size([256, 3, 224, 224])\n",
            "torch.Size([256, 3, 224, 224])\n",
            "torch.Size([256, 3, 224, 224])\n",
            "torch.Size([256, 3, 224, 224])\n",
            "torch.Size([256, 3, 224, 224])\n",
            "torch.Size([256, 3, 224, 224])\n",
            "torch.Size([256, 3, 224, 224])\n",
            "torch.Size([256, 3, 224, 224])\n",
            "torch.Size([256, 3, 224, 224])\n",
            "torch.Size([256, 3, 224, 224])\n",
            "torch.Size([256, 3, 224, 224])\n",
            "torch.Size([256, 3, 224, 224])\n",
            "torch.Size([256, 3, 224, 224])\n",
            "torch.Size([256, 3, 224, 224])\n",
            "torch.Size([256, 3, 224, 224])\n",
            "torch.Size([72, 3, 224, 224])\n",
            "Epoch: 4 Training acc: 0.9090604026845638 , Train loss: 0.3058367508153121 , Val acc: 0.9179530201342282 , Val loss: 0.27178940425316495\n",
            "torch.Size([256, 3, 224, 224])\n",
            "torch.Size([256, 3, 224, 224])\n",
            "torch.Size([256, 3, 224, 224])\n",
            "torch.Size([256, 3, 224, 224])\n",
            "torch.Size([256, 3, 224, 224])\n",
            "torch.Size([256, 3, 224, 224])\n",
            "torch.Size([256, 3, 224, 224])\n",
            "torch.Size([256, 3, 224, 224])\n",
            "torch.Size([256, 3, 224, 224])\n",
            "torch.Size([256, 3, 224, 224])\n",
            "torch.Size([256, 3, 224, 224])\n",
            "torch.Size([256, 3, 224, 224])\n",
            "torch.Size([256, 3, 224, 224])\n",
            "torch.Size([256, 3, 224, 224])\n",
            "torch.Size([256, 3, 224, 224])\n",
            "torch.Size([256, 3, 224, 224])\n",
            "torch.Size([256, 3, 224, 224])\n",
            "torch.Size([256, 3, 224, 224])\n",
            "torch.Size([256, 3, 224, 224])\n",
            "torch.Size([256, 3, 224, 224])\n",
            "torch.Size([256, 3, 224, 224])\n",
            "torch.Size([256, 3, 224, 224])\n",
            "torch.Size([256, 3, 224, 224])\n",
            "torch.Size([72, 3, 224, 224])\n",
            "Epoch: 5 Training acc: 0.9164429530201342 , Train loss: 0.27155376970767975 , Val acc: 0.9211409395973155 , Val loss: 0.2570070258031289\n"
          ]
        },
        {
          "output_type": "display_data",
          "data": {
            "text/plain": [
              "<Figure size 432x288 with 1 Axes>"
            ],
            "image/png": "[encoded data removed]"
          },
          "metadata": {
            "needs_background": "light"
          }
        },
        {
          "output_type": "display_data",
          "data": {
            "text/plain": [
              "<Figure size 432x288 with 1 Axes>"
            ],
            "image/png": "[encoded data removed]"
          },
          "metadata": {
            "needs_background": "light"
          }
        },
        {
          "output_type": "stream",
          "name": "stdout",
          "text": [
            "Final Training Accuracy: 0.9164429530201342\n",
            "Final Validation Accuracy: 0.9211409395973155\n"
          ]
        }
      ]
    },
    {
      "cell_type": "code",
      "execution_count": null,
      "metadata": {
        "colab": {
          "base_uri": "https://localhost:8080/",
          "height": 718
        },
        "id": "UGxIjrl9PTC2",
        "outputId": "d0af2e7b-3e56-4a3a-85a7-15a771229d7a"
      },
      "outputs": [
        {
          "output_type": "stream",
          "name": "stdout",
          "text": [
            "CUDA is available!  Training on GPU ...\n",
            "Epoch: 1 Training acc: 0.7052013422818791 , Train loss: 0.9681591188653986 , Val acc: 0.8083892617449664 , Val loss: 0.6340717628915259\n",
            "Epoch: 2 Training acc: 0.8320469798657718 , Train loss: 0.5673170590654333 , Val acc: 0.8666107382550335 , Val loss: 0.438126636946455\n",
            "Epoch: 3 Training acc: 0.864765100671141 , Train loss: 0.43402283305817463 , Val acc: 0.9055369127516778 , Val loss: 0.3164795846381086\n",
            "Epoch: 4 Training acc: 0.8859060402684564 , Train loss: 0.38192295996432607 , Val acc: 0.8875838926174496 , Val loss: 0.3771388201003379\n",
            "Epoch: 5 Training acc: 0.9036912751677852 , Train loss: 0.3200380396335683 , Val acc: 0.9315436241610738 , Val loss: 0.23316275471068443\n"
          ]
        },
        {
          "output_type": "display_data",
          "data": {
            "text/plain": [
              "<Figure size 432x288 with 1 Axes>"
            ],
            "image/png": "[encoded data removed]"
          },
          "metadata": {
            "needs_background": "light"
          }
        },
        {
          "output_type": "display_data",
          "data": {
            "text/plain": [
              "<Figure size 432x288 with 1 Axes>"
            ],
            "image/png": "[encoded data removed]"
          },
          "metadata": {
            "needs_background": "light"
          }
        },
        {
          "output_type": "stream",
          "name": "stdout",
          "text": [
            "Final Training Accuracy: 0.9036912751677852\n",
            "Final Validation Accuracy: 0.9315436241610738\n"
          ]
        }
      ],
      "source": [
        "use_cuda = True\n",
        "model = transfer_net\n",
        "\n",
        "if use_cuda and torch.cuda.is_available():\n",
        "  model.cuda()\n",
        "  print('CUDA is available!  Training on GPU ...')\n",
        "else:\n",
        "  print('CUDA is not available.  Training on CPU ...')\n",
        "\n",
        "train(model, \"debugging1\", train_dataset, val_dataset, lr = 0.001, batch_size = 128, num_epochs=5)"
      ]
    },
    {
      "cell_type": "code",
      "execution_count": null,
      "metadata": {
        "id": "xzQQrzjS9mle"
      },
      "outputs": [],
      "source": [
        "# Calling Test Loader\n",
        "test_loader = torch.utils.data.DataLoader(test_dataset, batch_size=128, shuffle=True)"
      ]
    },
    {
      "cell_type": "code",
      "source": [
        "net = transfer_net\n",
        "model_path = \"model_debugging1_bs64_lr0.001_epoch4\"\n",
        "state = torch.load(model_path)\n",
        "net.load_state_dict(state)\n",
        "\n",
        "print(evaluate(net, test_loader, nn.CrossEntropyLoss()))"
      ],
      "metadata": {
        "colab": {
          "base_uri": "https://localhost:8080/"
        },
        "id": "Y_0gdbTwuarW",
        "outputId": "82805e05-bc91-41d3-dde4-51caf43ad84c"
      },
      "execution_count": null,
      "outputs": [
        {
          "output_type": "stream",
          "name": "stdout",
          "text": [
            "(0.746031746031746, 0.9112714231014252)\n"
          ]
        }
      ]
    },
    {
      "cell_type": "code",
      "source": [
        "net = transfer_net\n",
        "model_path = \"model_debugging1_bs256_lr0.0005_epoch4\"\n",
        "state = torch.load(model_path)\n",
        "net.load_state_dict(state)\n",
        "\n",
        "print(evaluate(net, test_loader, nn.CrossEntropyLoss()))"
      ],
      "metadata": {
        "colab": {
          "base_uri": "https://localhost:8080/"
        },
        "id": "QaVriTbouAcH",
        "outputId": "9120fc53-99cc-4217-aea3-40f13f673d9f"
      },
      "execution_count": null,
      "outputs": [
        {
          "output_type": "stream",
          "name": "stdout",
          "text": [
            "(0.7966269841269841, 0.7970648482441902)\n"
          ]
        }
      ]
    },
    {
      "cell_type": "code",
      "source": [
        "net = transfer_net\n",
        "model_path = \"model_debugging1_bs128_lr0.001_epoch3\"\n",
        "state = torch.load(model_path)\n",
        "net.load_state_dict(state)\n",
        "\n",
        "print(evaluate(net, test_loader, nn.CrossEntropyLoss()))"
      ],
      "metadata": {
        "colab": {
          "base_uri": "https://localhost:8080/"
        },
        "id": "XN-vHe-bHX5J",
        "outputId": "3ad15a82-279c-4158-de0d-cfabd426a9f1"
      },
      "execution_count": null,
      "outputs": [
        {
          "output_type": "stream",
          "name": "stdout",
          "text": [
            "(0.7589285714285714, 0.8324983865022659)\n"
          ]
        }
      ]
    },
    {
      "cell_type": "code",
      "execution_count": null,
      "metadata": {
        "id": "rjydjTJFMdDs",
        "colab": {
          "base_uri": "https://localhost:8080/",
          "height": 374
        },
        "outputId": "a4a53336-5814-486d-ebd9-c78677ecead3"
      },
      "outputs": [
        {
          "output_type": "display_data",
          "data": {
            "text/plain": [
              "<Figure size 792x432 with 2 Axes>"
            ],
            "image/png": "[encoded data removed]"
          },
          "metadata": {
            "needs_background": "light"
          }
        }
      ],
      "source": [
        "# Confusion Matrix \n",
        "\n",
        "from sklearn.metrics import confusion_matrix\n",
        "from sklearn.metrics import ConfusionMatrixDisplay\n",
        "import seaborn as sn\n",
        "import pandas as pd\n",
        "import numpy as np\n",
        "\n",
        "pred = []\n",
        "label = []\n",
        "\n",
        "for img, labels in test_loader:\n",
        "        if use_cuda and torch.cuda.is_available():\n",
        "          img = img.cuda()\n",
        "          labels = labels.cuda()\n",
        "\n",
        "        output = model(img) # Feed Network\n",
        "\n",
        "        output = (torch.max(torch.exp(output), 1)[1]).data.cpu().numpy()\n",
        "        pred.extend(output) # Save Prediction\n",
        "        \n",
        "        labels = labels.data.cpu().numpy()\n",
        "        label.extend(labels) # Save Truth\n",
        "\n",
        "\n",
        "# confusion matrix\n",
        "conf_m = confusion_matrix(label, pred)\n",
        "data = pd.DataFrame(conf_m/np.sum(conf_m) *10, [i for i in classes], [i for i in classes])\n",
        "plt.figure(figsize = (11,6))\n",
        "sn.heatmap(data, cmap=\"YlGnBu\", annot=True)\n",
        "plt.savefig('output.png')"
      ]
    }
  ],
  "metadata": {
    "accelerator": "GPU",
    "colab": {
      "collapsed_sections": [],
      "name": "Impressionist_Art_CNN_model.ipynb",
      "provenance": [],
      "include_colab_link": true
    },
    "gpuClass": "standard",
    "kernelspec": {
      "display_name": "Python 3",
      "name": "python3"
    },
    "language_info": {
      "name": "python"
    },
    "widgets": {
      "application/vnd.jupyter.widget-state+json": {
        "fad8e29c50074ac78b89de552c5aa71d": {
          "model_module": "@jupyter-widgets/controls",
          "model_name": "HBoxModel",
          "model_module_version": "1.5.0",
          "state": {
            "_dom_classes": [],
            "_model_module": "@jupyter-widgets/controls",
            "_model_module_version": "1.5.0",
            "_model_name": "HBoxModel",
            "_view_count": null,
            "_view_module": "@jupyter-widgets/controls",
            "_view_module_version": "1.5.0",
            "_view_name": "HBoxView",
            "box_style": "",
            "children": [
              "IPY_MODEL_6b08c89abf9a4653b92259b605f99107",
              "IPY_MODEL_03c395e992aa44289fbfa838d92f3232",
              "IPY_MODEL_391964e9d76844b4ae9534a25f0451c5"
            ],
            "layout": "IPY_MODEL_9222edf8e21140ccbc7d4120c378ba38"
          }
        },
        "6b08c89abf9a4653b92259b605f99107": {
          "model_module": "@jupyter-widgets/controls",
          "model_name": "HTMLModel",
          "model_module_version": "1.5.0",
          "state": {
            "_dom_classes": [],
            "_model_module": "@jupyter-widgets/controls",
            "_model_module_version": "1.5.0",
            "_model_name": "HTMLModel",
            "_view_count": null,
            "_view_module": "@jupyter-widgets/controls",
            "_view_module_version": "1.5.0",
            "_view_name": "HTMLView",
            "description": "",
            "description_tooltip": null,
            "layout": "IPY_MODEL_6f5f97415b8a4659af3d1e6ab6b7b3fd",
            "placeholder": "​",
            "style": "IPY_MODEL_89e09d459e7944bd9bc30e42456b885d",
            "value": "100%"
          }
        },
        "03c395e992aa44289fbfa838d92f3232": {
          "model_module": "@jupyter-widgets/controls",
          "model_name": "FloatProgressModel",
          "model_module_version": "1.5.0",
          "state": {
            "_dom_classes": [],
            "_model_module": "@jupyter-widgets/controls",
            "_model_module_version": "1.5.0",
            "_model_name": "FloatProgressModel",
            "_view_count": null,
            "_view_module": "@jupyter-widgets/controls",
            "_view_module_version": "1.5.0",
            "_view_name": "ProgressView",
            "bar_style": "success",
            "description": "",
            "description_tooltip": null,
            "layout": "IPY_MODEL_1485168207d24b6db3318b416c31091c",
            "max": 87319819,
            "min": 0,
            "orientation": "horizontal",
            "style": "IPY_MODEL_efc594d47e7244488469cfe7c3ff072b",
            "value": 87319819
          }
        },
        "391964e9d76844b4ae9534a25f0451c5": {
          "model_module": "@jupyter-widgets/controls",
          "model_name": "HTMLModel",
          "model_module_version": "1.5.0",
          "state": {
            "_dom_classes": [],
            "_model_module": "@jupyter-widgets/controls",
            "_model_module_version": "1.5.0",
            "_model_name": "HTMLModel",
            "_view_count": null,
            "_view_module": "@jupyter-widgets/controls",
            "_view_module_version": "1.5.0",
            "_view_name": "HTMLView",
            "description": "",
            "description_tooltip": null,
            "layout": "IPY_MODEL_7aa4471626b849cdb1e7561b78e39ba5",
            "placeholder": "​",
            "style": "IPY_MODEL_e139f51eacdc40409956978ee377884e",
            "value": " 83.3M/83.3M [00:00&lt;00:00, 95.9MB/s]"
          }
        },
        "9222edf8e21140ccbc7d4120c378ba38": {
          "model_module": "@jupyter-widgets/base",
          "model_name": "LayoutModel",
          "model_module_version": "1.2.0",
          "state": {
            "_model_module": "@jupyter-widgets/base",
            "_model_module_version": "1.2.0",
            "_model_name": "LayoutModel",
            "_view_count": null,
            "_view_module": "@jupyter-widgets/base",
            "_view_module_version": "1.2.0",
            "_view_name": "LayoutView",
            "align_content": null,
            "align_items": null,
            "align_self": null,
            "border": null,
            "bottom": null,
            "display": null,
            "flex": null,
            "flex_flow": null,
            "grid_area": null,
            "grid_auto_columns": null,
            "grid_auto_flow": null,
            "grid_auto_rows": null,
            "grid_column": null,
            "grid_gap": null,
            "grid_row": null,
            "grid_template_areas": null,
            "grid_template_columns": null,
            "grid_template_rows": null,
            "height": null,
            "justify_content": null,
            "justify_items": null,
            "left": null,
            "margin": null,
            "max_height": null,
            "max_width": null,
            "min_height": null,
            "min_width": null,
            "object_fit": null,
            "object_position": null,
            "order": null,
            "overflow": null,
            "overflow_x": null,
            "overflow_y": null,
            "padding": null,
            "right": null,
            "top": null,
            "visibility": null,
            "width": null
          }
        },
        "6f5f97415b8a4659af3d1e6ab6b7b3fd": {
          "model_module": "@jupyter-widgets/base",
          "model_name": "LayoutModel",
          "model_module_version": "1.2.0",
          "state": {
            "_model_module": "@jupyter-widgets/base",
            "_model_module_version": "1.2.0",
            "_model_name": "LayoutModel",
            "_view_count": null,
            "_view_module": "@jupyter-widgets/base",
            "_view_module_version": "1.2.0",
            "_view_name": "LayoutView",
            "align_content": null,
            "align_items": null,
            "align_self": null,
            "border": null,
            "bottom": null,
            "display": null,
            "flex": null,
            "flex_flow": null,
            "grid_area": null,
            "grid_auto_columns": null,
            "grid_auto_flow": null,
            "grid_auto_rows": null,
            "grid_column": null,
            "grid_gap": null,
            "grid_row": null,
            "grid_template_areas": null,
            "grid_template_columns": null,
            "grid_template_rows": null,
            "height": null,
            "justify_content": null,
            "justify_items": null,
            "left": null,
            "margin": null,
            "max_height": null,
            "max_width": null,
            "min_height": null,
            "min_width": null,
            "object_fit": null,
            "object_position": null,
            "order": null,
            "overflow": null,
            "overflow_x": null,
            "overflow_y": null,
            "padding": null,
            "right": null,
            "top": null,
            "visibility": null,
            "width": null
          }
        },
        "89e09d459e7944bd9bc30e42456b885d": {
          "model_module": "@jupyter-widgets/controls",
          "model_name": "DescriptionStyleModel",
          "model_module_version": "1.5.0",
          "state": {
            "_model_module": "@jupyter-widgets/controls",
            "_model_module_version": "1.5.0",
            "_model_name": "DescriptionStyleModel",
            "_view_count": null,
            "_view_module": "@jupyter-widgets/base",
            "_view_module_version": "1.2.0",
            "_view_name": "StyleView",
            "description_width": ""
          }
        },
        "1485168207d24b6db3318b416c31091c": {
          "model_module": "@jupyter-widgets/base",
          "model_name": "LayoutModel",
          "model_module_version": "1.2.0",
          "state": {
            "_model_module": "@jupyter-widgets/base",
            "_model_module_version": "1.2.0",
            "_model_name": "LayoutModel",
            "_view_count": null,
            "_view_module": "@jupyter-widgets/base",
            "_view_module_version": "1.2.0",
            "_view_name": "LayoutView",
            "align_content": null,
            "align_items": null,
            "align_self": null,
            "border": null,
            "bottom": null,
            "display": null,
            "flex": null,
            "flex_flow": null,
            "grid_area": null,
            "grid_auto_columns": null,
            "grid_auto_flow": null,
            "grid_auto_rows": null,
            "grid_column": null,
            "grid_gap": null,
            "grid_row": null,
            "grid_template_areas": null,
            "grid_template_columns": null,
            "grid_template_rows": null,
            "height": null,
            "justify_content": null,
            "justify_items": null,
            "left": null,
            "margin": null,
            "max_height": null,
            "max_width": null,
            "min_height": null,
            "min_width": null,
            "object_fit": null,
            "object_position": null,
            "order": null,
            "overflow": null,
            "overflow_x": null,
            "overflow_y": null,
            "padding": null,
            "right": null,
            "top": null,
            "visibility": null,
            "width": null
          }
        },
        "efc594d47e7244488469cfe7c3ff072b": {
          "model_module": "@jupyter-widgets/controls",
          "model_name": "ProgressStyleModel",
          "model_module_version": "1.5.0",
          "state": {
            "_model_module": "@jupyter-widgets/controls",
            "_model_module_version": "1.5.0",
            "_model_name": "ProgressStyleModel",
            "_view_count": null,
            "_view_module": "@jupyter-widgets/base",
            "_view_module_version": "1.2.0",
            "_view_name": "StyleView",
            "bar_color": null,
            "description_width": ""
          }
        },
        "7aa4471626b849cdb1e7561b78e39ba5": {
          "model_module": "@jupyter-widgets/base",
          "model_name": "LayoutModel",
          "model_module_version": "1.2.0",
          "state": {
            "_model_module": "@jupyter-widgets/base",
            "_model_module_version": "1.2.0",
            "_model_name": "LayoutModel",
            "_view_count": null,
            "_view_module": "@jupyter-widgets/base",
            "_view_module_version": "1.2.0",
            "_view_name": "LayoutView",
            "align_content": null,
            "align_items": null,
            "align_self": null,
            "border": null,
            "bottom": null,
            "display": null,
            "flex": null,
            "flex_flow": null,
            "grid_area": null,
            "grid_auto_columns": null,
            "grid_auto_flow": null,
            "grid_auto_rows": null,
            "grid_column": null,
            "grid_gap": null,
            "grid_row": null,
            "grid_template_areas": null,
            "grid_template_columns": null,
            "grid_template_rows": null,
            "height": null,
            "justify_content": null,
            "justify_items": null,
            "left": null,
            "margin": null,
            "max_height": null,
            "max_width": null,
            "min_height": null,
            "min_width": null,
            "object_fit": null,
            "object_position": null,
            "order": null,
            "overflow": null,
            "overflow_x": null,
            "overflow_y": null,
            "padding": null,
            "right": null,
            "top": null,
            "visibility": null,
            "width": null
          }
        },
        "e139f51eacdc40409956978ee377884e": {
          "model_module": "@jupyter-widgets/controls",
          "model_name": "DescriptionStyleModel",
          "model_module_version": "1.5.0",
          "state": {
            "_model_module": "@jupyter-widgets/controls",
            "_model_module_version": "1.5.0",
            "_model_name": "DescriptionStyleModel",
            "_view_count": null,
            "_view_module": "@jupyter-widgets/base",
            "_view_module_version": "1.2.0",
            "_view_name": "StyleView",
            "description_width": ""
          }
        }
      }
    }
  },
  "nbformat": 4,
  "nbformat_minor": 0
}